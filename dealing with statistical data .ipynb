{
 "cells": [
  {
   "cell_type": "code",
   "execution_count": 14,
   "metadata": {},
   "outputs": [
    {
     "name": "stdout",
     "output_type": "stream",
     "text": [
      "-15.268707482993197\n"
     ]
    }
   ],
   "source": [
    "from statistics import mean\n",
    "import numpy as np\n",
    "import matplotlib.pyplot as plt\n",
    "\n",
    "xs=np.array([1,2,3,4,5,6] , dtype=np.float64)\n",
    "ys=np.array([5,4,6,5,6,7] , dtype=np.float64)\n",
    "\n",
    "def best_fit_slope(xs,ys):\n",
    "    m=(((mean(xs)* mean(ys))-mean(xs*ys)) / (mean(xs)**2)-mean(xs*xs))\n",
    "    return m\n",
    "m = best_fit_slope(xs,ys)\n",
    "print(m)"
   ]
  },
  {
   "cell_type": "code",
   "execution_count": 17,
   "metadata": {},
   "outputs": [
    {
     "name": "stdout",
     "output_type": "stream",
     "text": [
      "0.42857142857142866 4.0\n"
     ]
    },
    {
     "data": {
      "text/plain": [
       "<function matplotlib.pyplot.show(*args, **kw)>"
      ]
     },
     "execution_count": 17,
     "metadata": {},
     "output_type": "execute_result"
    },
    {
     "data": {
      "image/png": "[encoded data removed]",
      "text/plain": [
       "<Figure size 432x288 with 1 Axes>"
      ]
     },
     "metadata": {
      "needs_background": "light"
     },
     "output_type": "display_data"
    }
   ],
   "source": [
    "xs=np.array([1,2,3,4,5,6] , dtype=np.float64)\n",
    "ys=np.array([5,4,6,5,6,7] , dtype=np.float64)\n",
    "\n",
    "def best_fit_slope(xs,ys):\n",
    "    m=( ((mean(xs)* mean(ys))-mean(xs*ys)) / \n",
    "       ((mean(xs)**2)-mean(xs*xs)))\n",
    "    b=mean(ys)-m*mean(xs)\n",
    "    \n",
    "    return m,b\n",
    "\n",
    "m,b = best_fit_slope(xs,ys)\n",
    "print(m ,b)\n",
    "\n",
    "regression_line=[(m*x)+b for x in xs]\n",
    "plt.scatter(xs,ys)\n",
    "plt.plot(xs,regression_line)\n",
    "plt.show"
   ]
  },
  {
   "cell_type": "code",
   "execution_count": 21,
   "metadata": {},
   "outputs": [
    {
     "data": {
      "text/plain": [
       "<function matplotlib.pyplot.show(*args, **kw)>"
      ]
     },
     "execution_count": 21,
     "metadata": {},
     "output_type": "execute_result"
    },
    {
     "data": {
      "image/png": "[encoded data removed]",
      "text/plain": [
       "<Figure size 432x288 with 1 Axes>"
      ]
     },
     "metadata": {
      "needs_background": "light"
     },
     "output_type": "display_data"
    }
   ],
   "source": [
    "xs=np.array([1,2,3,4,5,6] , dtype=np.float64)\n",
    "ys=np.array([5,4,6,5,6,7] , dtype=np.float64)\n",
    "\n",
    "def best_fit_slope(xs,ys):\n",
    "    m=( ((mean(xs)* mean(ys))-mean(xs*ys)) / \n",
    "       ((mean(xs)**2)-mean(xs*xs)))\n",
    "    b=mean(ys)-m*mean(xs)\n",
    "    \n",
    "    return m,b\n",
    "\n",
    "m,b = best_fit_slope(xs,ys)\n",
    "##print(m ,b)\n",
    "\n",
    "regression_line=[(m*x)+b for x in xs]\n",
    "\n",
    "\n",
    "predict_x=8\n",
    "predict_y=(m*predict_x)+b\n",
    "\n",
    "plt.scatter(xs,ys)\n",
    "plt.scatter(predict_x,predict_y,color='r')\n",
    "#the red dot represents the predicted vallue\n",
    "plt.plot(xs,regression_line)\n",
    "plt.show"
   ]
  },
  {
   "cell_type": "code",
   "execution_count": null,
   "metadata": {},
   "outputs": [],
   "source": []
  }
 ],
 "metadata": {
  "kernelspec": {
   "display_name": "Python 3",
   "language": "python",
   "name": "python3"
  },
  "language_info": {
   "codemirror_mode": {
    "name": "ipython",
    "version": 3
   },
   "file_extension": ".py",
   "mimetype": "text/x-python",
   "name": "python",
   "nbconvert_exporter": "python",
   "pygments_lexer": "ipython3",
   "version": "3.7.3"
  }
 },
 "nbformat": 4,
 "nbformat_minor": 2
}
